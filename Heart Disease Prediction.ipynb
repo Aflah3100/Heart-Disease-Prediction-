{
 "cells":[
  {
   "cell_type":"code",
   "source":[
    "import numpy as np\n",
    "import pandas as pd\n",
    "import matplotlib.pyplot as plt\n",
    "import warnings\n",
    "warnings.filterwarnings('ignore')\n",
    "from sklearn.metrics import accuracy_score,mean_squared_error\n",
    "import plotly.express as px"
   ],
   "execution_count":511,
   "outputs":[
    
   ],
   "metadata":{
    "datalore":{
     "node_id":"4S1e7JJv8wmK6ge5HBQ240",
     "type":"CODE",
     "hide_input_from_viewers":false,
     "hide_output_from_viewers":false,
     "report_properties":{
      
     }
    }
   }
  },
  {
   "cell_type":"code",
   "source":[
    "#Loading the dataset\n",
    "\n",
    "data=pd.read_csv('dataset_1.csv')\n",
    "\n",
    "#Verifying the output by printing first 5 rows of the dataset\n",
    "\n",
    "data.head(6)"
   ],
   "execution_count":512,
   "outputs":[
    {
     "data":{
      "text\/html":[
       "<div>\n",
       "<style scoped>\n",
       "    .dataframe tbody tr th:only-of-type {\n",
       "        vertical-align: middle;\n",
       "    }\n",
       "\n",
       "    .dataframe tbody tr th {\n",
       "        vertical-align: top;\n",
       "    }\n",
       "\n",
       "    .dataframe thead th {\n",
       "        text-align: right;\n",
       "    }\n",
       "<\/style>\n",
       "<table border=\"1\" class=\"dataframe\">\n",
       "  <thead>\n",
       "    <tr style=\"text-align: right;\">\n",
       "      <th><\/th>\n",
       "      <th>Age<\/th>\n",
       "      <th>Sex<\/th>\n",
       "      <th>Chest pain type<\/th>\n",
       "      <th>BP<\/th>\n",
       "      <th>Cholesterol<\/th>\n",
       "      <th>FBS over 120<\/th>\n",
       "      <th>EKG results<\/th>\n",
       "      <th>Max HR<\/th>\n",
       "      <th>Exercise angina<\/th>\n",
       "      <th>ST depression<\/th>\n",
       "      <th>Slope of ST<\/th>\n",
       "      <th>Number of vessels fluro<\/th>\n",
       "      <th>Thallium<\/th>\n",
       "      <th>Heart Disease<\/th>\n",
       "    <\/tr>\n",
       "  <\/thead>\n",
       "  <tbody>\n",
       "    <tr>\n",
       "      <th>0<\/th>\n",
       "      <td>70<\/td>\n",
       "      <td>1<\/td>\n",
       "      <td>4<\/td>\n",
       "      <td>130<\/td>\n",
       "      <td>322<\/td>\n",
       "      <td>0<\/td>\n",
       "      <td>2<\/td>\n",
       "      <td>109<\/td>\n",
       "      <td>0<\/td>\n",
       "      <td>2.4<\/td>\n",
       "      <td>2<\/td>\n",
       "      <td>3<\/td>\n",
       "      <td>3<\/td>\n",
       "      <td>Presence<\/td>\n",
       "    <\/tr>\n",
       "    <tr>\n",
       "      <th>1<\/th>\n",
       "      <td>67<\/td>\n",
       "      <td>0<\/td>\n",
       "      <td>3<\/td>\n",
       "      <td>115<\/td>\n",
       "      <td>564<\/td>\n",
       "      <td>0<\/td>\n",
       "      <td>2<\/td>\n",
       "      <td>160<\/td>\n",
       "      <td>0<\/td>\n",
       "      <td>1.6<\/td>\n",
       "      <td>2<\/td>\n",
       "      <td>0<\/td>\n",
       "      <td>7<\/td>\n",
       "      <td>Absence<\/td>\n",
       "    <\/tr>\n",
       "    <tr>\n",
       "      <th>2<\/th>\n",
       "      <td>57<\/td>\n",
       "      <td>1<\/td>\n",
       "      <td>2<\/td>\n",
       "      <td>124<\/td>\n",
       "      <td>261<\/td>\n",
       "      <td>0<\/td>\n",
       "      <td>0<\/td>\n",
       "      <td>141<\/td>\n",
       "      <td>0<\/td>\n",
       "      <td>0.3<\/td>\n",
       "      <td>1<\/td>\n",
       "      <td>0<\/td>\n",
       "      <td>7<\/td>\n",
       "      <td>Presence<\/td>\n",
       "    <\/tr>\n",
       "    <tr>\n",
       "      <th>3<\/th>\n",
       "      <td>64<\/td>\n",
       "      <td>1<\/td>\n",
       "      <td>4<\/td>\n",
       "      <td>128<\/td>\n",
       "      <td>263<\/td>\n",
       "      <td>0<\/td>\n",
       "      <td>0<\/td>\n",
       "      <td>105<\/td>\n",
       "      <td>1<\/td>\n",
       "      <td>0.2<\/td>\n",
       "      <td>2<\/td>\n",
       "      <td>1<\/td>\n",
       "      <td>7<\/td>\n",
       "      <td>Absence<\/td>\n",
       "    <\/tr>\n",
       "    <tr>\n",
       "      <th>4<\/th>\n",
       "      <td>74<\/td>\n",
       "      <td>0<\/td>\n",
       "      <td>2<\/td>\n",
       "      <td>120<\/td>\n",
       "      <td>269<\/td>\n",
       "      <td>0<\/td>\n",
       "      <td>2<\/td>\n",
       "      <td>121<\/td>\n",
       "      <td>1<\/td>\n",
       "      <td>0.2<\/td>\n",
       "      <td>1<\/td>\n",
       "      <td>1<\/td>\n",
       "      <td>3<\/td>\n",
       "      <td>Absence<\/td>\n",
       "    <\/tr>\n",
       "    <tr>\n",
       "      <th>5<\/th>\n",
       "      <td>65<\/td>\n",
       "      <td>1<\/td>\n",
       "      <td>4<\/td>\n",
       "      <td>120<\/td>\n",
       "      <td>177<\/td>\n",
       "      <td>0<\/td>\n",
       "      <td>0<\/td>\n",
       "      <td>140<\/td>\n",
       "      <td>0<\/td>\n",
       "      <td>0.4<\/td>\n",
       "      <td>1<\/td>\n",
       "      <td>0<\/td>\n",
       "      <td>7<\/td>\n",
       "      <td>Absence<\/td>\n",
       "    <\/tr>\n",
       "  <\/tbody>\n",
       "<\/table>\n",
       "<\/div>"
      ]
     },
     "metadata":{
      
     },
     "output_type":"display_data"
    }
   ],
   "metadata":{
    "datalore":{
     "node_id":"iHbM2GmolGBCAEDN9BuioR",
     "type":"CODE",
     "hide_input_from_viewers":false,
     "hide_output_from_viewers":false,
     "report_properties":{
      
     }
    }
   }
  },
  {
   "cell_type":"code",
   "source":[
    "data.shape"
   ],
   "execution_count":513,
   "outputs":[
    {
     "data":{
      "text\/plain":[
       "(270, 14)"
      ]
     },
     "metadata":{
      
     },
     "output_type":"display_data"
    }
   ],
   "metadata":{
    "datalore":{
     "node_id":"OgHId5u2wVbKsRdzw3PFJo",
     "type":"CODE",
     "hide_input_from_viewers":false,
     "hide_output_from_viewers":false,
     "report_properties":{
      
     }
    }
   }
  },
  {
   "cell_type":"code",
   "source":[
    "data.dtypes"
   ],
   "execution_count":514,
   "outputs":[
    {
     "data":{
      "text\/html":[
       "<pre>Age                          int64\n",
       "Sex                          int64\n",
       "Chest pain type              int64\n",
       "BP                           int64\n",
       "Cholesterol                  int64\n",
       "FBS over 120                 int64\n",
       "EKG results                  int64\n",
       "Max HR                       int64\n",
       "Exercise angina              int64\n",
       "ST depression              float64\n",
       "Slope of ST                  int64\n",
       "Number of vessels fluro      int64\n",
       "Thallium                     int64\n",
       "Heart Disease               object\n",
       "dtype: object<\/pre>"
      ]
     },
     "metadata":{
      
     },
     "output_type":"display_data"
    }
   ],
   "metadata":{
    "datalore":{
     "node_id":"nKE7GyFkXIQMtOT9B5aogA",
     "type":"CODE",
     "hide_input_from_viewers":false,
     "hide_output_from_viewers":false,
     "report_properties":{
      
     }
    }
   }
  },
  {
   "cell_type":"code",
   "source":[
    "data.isnull()"
   ],
   "execution_count":515,
   "outputs":[
    {
     "data":{
      "text\/html":[
       "<div>\n",
       "<style scoped>\n",
       "    .dataframe tbody tr th:only-of-type {\n",
       "        vertical-align: middle;\n",
       "    }\n",
       "\n",
       "    .dataframe tbody tr th {\n",
       "        vertical-align: top;\n",
       "    }\n",
       "\n",
       "    .dataframe thead th {\n",
       "        text-align: right;\n",
       "    }\n",
       "<\/style>\n",
       "<table border=\"1\" class=\"dataframe\">\n",
       "  <thead>\n",
       "    <tr style=\"text-align: right;\">\n",
       "      <th><\/th>\n",
       "      <th>Age<\/th>\n",
       "      <th>Sex<\/th>\n",
       "      <th>Chest pain type<\/th>\n",
       "      <th>BP<\/th>\n",
       "      <th>Cholesterol<\/th>\n",
       "      <th>FBS over 120<\/th>\n",
       "      <th>EKG results<\/th>\n",
       "      <th>Max HR<\/th>\n",
       "      <th>Exercise angina<\/th>\n",
       "      <th>ST depression<\/th>\n",
       "      <th>Slope of ST<\/th>\n",
       "      <th>Number of vessels fluro<\/th>\n",
       "      <th>Thallium<\/th>\n",
       "      <th>Heart Disease<\/th>\n",
       "    <\/tr>\n",
       "  <\/thead>\n",
       "  <tbody>\n",
       "    <tr>\n",
       "      <th>0<\/th>\n",
       "      <td>False<\/td>\n",
       "      <td>False<\/td>\n",
       "      <td>False<\/td>\n",
       "      <td>False<\/td>\n",
       "      <td>False<\/td>\n",
       "      <td>False<\/td>\n",
       "      <td>False<\/td>\n",
       "      <td>False<\/td>\n",
       "      <td>False<\/td>\n",
       "      <td>False<\/td>\n",
       "      <td>False<\/td>\n",
       "      <td>False<\/td>\n",
       "      <td>False<\/td>\n",
       "      <td>False<\/td>\n",
       "    <\/tr>\n",
       "    <tr>\n",
       "      <th>1<\/th>\n",
       "      <td>False<\/td>\n",
       "      <td>False<\/td>\n",
       "      <td>False<\/td>\n",
       "      <td>False<\/td>\n",
       "      <td>False<\/td>\n",
       "      <td>False<\/td>\n",
       "      <td>False<\/td>\n",
       "      <td>False<\/td>\n",
       "      <td>False<\/td>\n",
       "      <td>False<\/td>\n",
       "      <td>False<\/td>\n",
       "      <td>False<\/td>\n",
       "      <td>False<\/td>\n",
       "      <td>False<\/td>\n",
       "    <\/tr>\n",
       "    <tr>\n",
       "      <th>2<\/th>\n",
       "      <td>False<\/td>\n",
       "      <td>False<\/td>\n",
       "      <td>False<\/td>\n",
       "      <td>False<\/td>\n",
       "      <td>False<\/td>\n",
       "      <td>False<\/td>\n",
       "      <td>False<\/td>\n",
       "      <td>False<\/td>\n",
       "      <td>False<\/td>\n",
       "      <td>False<\/td>\n",
       "      <td>False<\/td>\n",
       "      <td>False<\/td>\n",
       "      <td>False<\/td>\n",
       "      <td>False<\/td>\n",
       "    <\/tr>\n",
       "    <tr>\n",
       "      <th>3<\/th>\n",
       "      <td>False<\/td>\n",
       "      <td>False<\/td>\n",
       "      <td>False<\/td>\n",
       "      <td>False<\/td>\n",
       "      <td>False<\/td>\n",
       "      <td>False<\/td>\n",
       "      <td>False<\/td>\n",
       "      <td>False<\/td>\n",
       "      <td>False<\/td>\n",
       "      <td>False<\/td>\n",
       "      <td>False<\/td>\n",
       "      <td>False<\/td>\n",
       "      <td>False<\/td>\n",
       "      <td>False<\/td>\n",
       "    <\/tr>\n",
       "    <tr>\n",
       "      <th>4<\/th>\n",
       "      <td>False<\/td>\n",
       "      <td>False<\/td>\n",
       "      <td>False<\/td>\n",
       "      <td>False<\/td>\n",
       "      <td>False<\/td>\n",
       "      <td>False<\/td>\n",
       "      <td>False<\/td>\n",
       "      <td>False<\/td>\n",
       "      <td>False<\/td>\n",
       "      <td>False<\/td>\n",
       "      <td>False<\/td>\n",
       "      <td>False<\/td>\n",
       "      <td>False<\/td>\n",
       "      <td>False<\/td>\n",
       "    <\/tr>\n",
       "    <tr>\n",
       "      <th>...<\/th>\n",
       "      <td>...<\/td>\n",
       "      <td>...<\/td>\n",
       "      <td>...<\/td>\n",
       "      <td>...<\/td>\n",
       "      <td>...<\/td>\n",
       "      <td>...<\/td>\n",
       "      <td>...<\/td>\n",
       "      <td>...<\/td>\n",
       "      <td>...<\/td>\n",
       "      <td>...<\/td>\n",
       "      <td>...<\/td>\n",
       "      <td>...<\/td>\n",
       "      <td>...<\/td>\n",
       "      <td>...<\/td>\n",
       "    <\/tr>\n",
       "    <tr>\n",
       "      <th>265<\/th>\n",
       "      <td>False<\/td>\n",
       "      <td>False<\/td>\n",
       "      <td>False<\/td>\n",
       "      <td>False<\/td>\n",
       "      <td>False<\/td>\n",
       "      <td>False<\/td>\n",
       "      <td>False<\/td>\n",
       "      <td>False<\/td>\n",
       "      <td>False<\/td>\n",
       "      <td>False<\/td>\n",
       "      <td>False<\/td>\n",
       "      <td>False<\/td>\n",
       "      <td>False<\/td>\n",
       "      <td>False<\/td>\n",
       "    <\/tr>\n",
       "    <tr>\n",
       "      <th>266<\/th>\n",
       "      <td>False<\/td>\n",
       "      <td>False<\/td>\n",
       "      <td>False<\/td>\n",
       "      <td>False<\/td>\n",
       "      <td>False<\/td>\n",
       "      <td>False<\/td>\n",
       "      <td>False<\/td>\n",
       "      <td>False<\/td>\n",
       "      <td>False<\/td>\n",
       "      <td>False<\/td>\n",
       "      <td>False<\/td>\n",
       "      <td>False<\/td>\n",
       "      <td>False<\/td>\n",
       "      <td>False<\/td>\n",
       "    <\/tr>\n",
       "    <tr>\n",
       "      <th>267<\/th>\n",
       "      <td>False<\/td>\n",
       "      <td>False<\/td>\n",
       "      <td>False<\/td>\n",
       "      <td>False<\/td>\n",
       "      <td>False<\/td>\n",
       "      <td>False<\/td>\n",
       "      <td>False<\/td>\n",
       "      <td>False<\/td>\n",
       "      <td>False<\/td>\n",
       "      <td>False<\/td>\n",
       "      <td>False<\/td>\n",
       "      <td>False<\/td>\n",
       "      <td>False<\/td>\n",
       "      <td>False<\/td>\n",
       "    <\/tr>\n",
       "    <tr>\n",
       "      <th>268<\/th>\n",
       "      <td>False<\/td>\n",
       "      <td>False<\/td>\n",
       "      <td>False<\/td>\n",
       "      <td>False<\/td>\n",
       "      <td>False<\/td>\n",
       "      <td>False<\/td>\n",
       "      <td>False<\/td>\n",
       "      <td>False<\/td>\n",
       "      <td>False<\/td>\n",
       "      <td>False<\/td>\n",
       "      <td>False<\/td>\n",
       "      <td>False<\/td>\n",
       "      <td>False<\/td>\n",
       "      <td>False<\/td>\n",
       "    <\/tr>\n",
       "    <tr>\n",
       "      <th>269<\/th>\n",
       "      <td>False<\/td>\n",
       "      <td>False<\/td>\n",
       "      <td>False<\/td>\n",
       "      <td>False<\/td>\n",
       "      <td>False<\/td>\n",
       "      <td>False<\/td>\n",
       "      <td>False<\/td>\n",
       "      <td>False<\/td>\n",
       "      <td>False<\/td>\n",
       "      <td>False<\/td>\n",
       "      <td>False<\/td>\n",
       "      <td>False<\/td>\n",
       "      <td>False<\/td>\n",
       "      <td>False<\/td>\n",
       "    <\/tr>\n",
       "  <\/tbody>\n",
       "<\/table>\n",
       "<p>270 rows × 14 columns<\/p>\n",
       "<\/div>"
      ]
     },
     "metadata":{
      
     },
     "output_type":"display_data"
    }
   ],
   "metadata":{
    "datalore":{
     "node_id":"k3jiFVD8XTmWzOvw1Ln7zb",
     "type":"CODE",
     "hide_input_from_viewers":false,
     "hide_output_from_viewers":false,
     "report_properties":{
      
     }
    }
   }
  },
  {
   "cell_type":"code",
   "source":[
    "# Converting target variables into numerical va;ue using One Hot Encoding\n",
    "\n",
    "\n",
    "\n",
    "dummies = pd.get_dummies(data['Heart Disease'])\n",
    "merged_data = pd.concat([data,dummies],axis=1)  \n",
    "new_data = merged_data.drop(['Heart Disease'], axis=1)\n",
    "new_data = new_data.drop(['Absence'], axis=1)\n",
    "new_data.rename(columns = {'Presence':'Heart Disease Predicted'}, inplace = True)\n",
    "\n",
    "\n",
    "\n",
    "\n",
    "\n"
   ],
   "execution_count":516,
   "outputs":[
    
   ],
   "metadata":{
    "datalore":{
     "node_id":"kMkAhNQqGLKzEgg0s27i6c",
     "type":"CODE",
     "hide_input_from_viewers":false,
     "hide_output_from_viewers":false,
     "report_properties":{
      
     }
    }
   }
  },
  {
   "cell_type":"code",
   "source":[
    "new_data.head(5)"
   ],
   "execution_count":517,
   "outputs":[
    {
     "data":{
      "text\/html":[
       "<div>\n",
       "<style scoped>\n",
       "    .dataframe tbody tr th:only-of-type {\n",
       "        vertical-align: middle;\n",
       "    }\n",
       "\n",
       "    .dataframe tbody tr th {\n",
       "        vertical-align: top;\n",
       "    }\n",
       "\n",
       "    .dataframe thead th {\n",
       "        text-align: right;\n",
       "    }\n",
       "<\/style>\n",
       "<table border=\"1\" class=\"dataframe\">\n",
       "  <thead>\n",
       "    <tr style=\"text-align: right;\">\n",
       "      <th><\/th>\n",
       "      <th>Age<\/th>\n",
       "      <th>Sex<\/th>\n",
       "      <th>Chest pain type<\/th>\n",
       "      <th>BP<\/th>\n",
       "      <th>Cholesterol<\/th>\n",
       "      <th>FBS over 120<\/th>\n",
       "      <th>EKG results<\/th>\n",
       "      <th>Max HR<\/th>\n",
       "      <th>Exercise angina<\/th>\n",
       "      <th>ST depression<\/th>\n",
       "      <th>Slope of ST<\/th>\n",
       "      <th>Number of vessels fluro<\/th>\n",
       "      <th>Thallium<\/th>\n",
       "      <th>Heart Disease Predicted<\/th>\n",
       "    <\/tr>\n",
       "  <\/thead>\n",
       "  <tbody>\n",
       "    <tr>\n",
       "      <th>0<\/th>\n",
       "      <td>70<\/td>\n",
       "      <td>1<\/td>\n",
       "      <td>4<\/td>\n",
       "      <td>130<\/td>\n",
       "      <td>322<\/td>\n",
       "      <td>0<\/td>\n",
       "      <td>2<\/td>\n",
       "      <td>109<\/td>\n",
       "      <td>0<\/td>\n",
       "      <td>2.4<\/td>\n",
       "      <td>2<\/td>\n",
       "      <td>3<\/td>\n",
       "      <td>3<\/td>\n",
       "      <td>1<\/td>\n",
       "    <\/tr>\n",
       "    <tr>\n",
       "      <th>1<\/th>\n",
       "      <td>67<\/td>\n",
       "      <td>0<\/td>\n",
       "      <td>3<\/td>\n",
       "      <td>115<\/td>\n",
       "      <td>564<\/td>\n",
       "      <td>0<\/td>\n",
       "      <td>2<\/td>\n",
       "      <td>160<\/td>\n",
       "      <td>0<\/td>\n",
       "      <td>1.6<\/td>\n",
       "      <td>2<\/td>\n",
       "      <td>0<\/td>\n",
       "      <td>7<\/td>\n",
       "      <td>0<\/td>\n",
       "    <\/tr>\n",
       "    <tr>\n",
       "      <th>2<\/th>\n",
       "      <td>57<\/td>\n",
       "      <td>1<\/td>\n",
       "      <td>2<\/td>\n",
       "      <td>124<\/td>\n",
       "      <td>261<\/td>\n",
       "      <td>0<\/td>\n",
       "      <td>0<\/td>\n",
       "      <td>141<\/td>\n",
       "      <td>0<\/td>\n",
       "      <td>0.3<\/td>\n",
       "      <td>1<\/td>\n",
       "      <td>0<\/td>\n",
       "      <td>7<\/td>\n",
       "      <td>1<\/td>\n",
       "    <\/tr>\n",
       "    <tr>\n",
       "      <th>3<\/th>\n",
       "      <td>64<\/td>\n",
       "      <td>1<\/td>\n",
       "      <td>4<\/td>\n",
       "      <td>128<\/td>\n",
       "      <td>263<\/td>\n",
       "      <td>0<\/td>\n",
       "      <td>0<\/td>\n",
       "      <td>105<\/td>\n",
       "      <td>1<\/td>\n",
       "      <td>0.2<\/td>\n",
       "      <td>2<\/td>\n",
       "      <td>1<\/td>\n",
       "      <td>7<\/td>\n",
       "      <td>0<\/td>\n",
       "    <\/tr>\n",
       "    <tr>\n",
       "      <th>4<\/th>\n",
       "      <td>74<\/td>\n",
       "      <td>0<\/td>\n",
       "      <td>2<\/td>\n",
       "      <td>120<\/td>\n",
       "      <td>269<\/td>\n",
       "      <td>0<\/td>\n",
       "      <td>2<\/td>\n",
       "      <td>121<\/td>\n",
       "      <td>1<\/td>\n",
       "      <td>0.2<\/td>\n",
       "      <td>1<\/td>\n",
       "      <td>1<\/td>\n",
       "      <td>3<\/td>\n",
       "      <td>0<\/td>\n",
       "    <\/tr>\n",
       "  <\/tbody>\n",
       "<\/table>\n",
       "<\/div>"
      ]
     },
     "metadata":{
      
     },
     "output_type":"display_data"
    }
   ],
   "metadata":{
    "datalore":{
     "node_id":"WyaOwc9xPGZjlI9b2eGILP",
     "type":"CODE",
     "hide_input_from_viewers":false,
     "hide_output_from_viewers":false,
     "report_properties":{
      
     }
    }
   }
  },
  {
   "cell_type":"code",
   "source":[
    "print(new_data.dtypes)"
   ],
   "execution_count":518,
   "outputs":[
    {
     "name":"stdout",
     "text":[
      "Age                          int64\n",
      "Sex                          int64\n",
      "Chest pain type              int64\n",
      "BP                           int64\n",
      "Cholesterol                  int64\n",
      "FBS over 120                 int64\n",
      "EKG results                  int64\n",
      "Max HR                       int64\n",
      "Exercise angina              int64\n",
      "ST depression              float64\n",
      "Slope of ST                  int64\n",
      "Number of vessels fluro      int64\n",
      "Thallium                     int64\n",
      "Heart Disease Predicted      uint8\n",
      "dtype: object\n"
     ],
     "output_type":"stream"
    }
   ],
   "metadata":{
    "datalore":{
     "node_id":"63mQjjdkDk0VTBgs0dPhmE",
     "type":"CODE",
     "hide_input_from_viewers":false,
     "hide_output_from_viewers":false,
     "report_properties":{
      
     }
    }
   }
  },
  {
   "cell_type":"code",
   "source":[
    "import seaborn as sns\n",
    "\n",
    "plt.figure(figsize=(20,12))\n",
    "sns.set_context('notebook',font_scale = 1.3)\n",
    "sns.heatmap(new_data.corr(),annot=True,linewidth =2)\n",
    "plt.tight_layout()"
   ],
   "execution_count":519,
   "outputs":[
    {
     "data":{
      "image\/png":"[encoded data removed]"
     },
     "metadata":{
      "image\/png":{
       
      }
     },
     "output_type":"display_data"
    }
   ],
   "metadata":{
    "datalore":{
     "node_id":"BfbqJLXZo31FVekI4AAlsu",
     "type":"CODE",
     "hide_input_from_viewers":false,
     "hide_output_from_viewers":false,
     "report_properties":{
      
     }
    }
   }
  },
  {
   "cell_type":"code",
   "source":[
    "print(new_data['Age'])"
   ],
   "execution_count":520,
   "outputs":[
    {
     "name":"stdout",
     "text":[
      "0      70\n",
      "1      67\n",
      "2      57\n",
      "3      64\n",
      "4      74\n",
      "       ..\n",
      "265    52\n",
      "266    44\n",
      "267    56\n",
      "268    57\n",
      "269    67\n",
      "Name: Age, Length: 270, dtype: int64\n"
     ],
     "output_type":"stream"
    }
   ],
   "metadata":{
    "datalore":{
     "node_id":"FLNe7cWOnH4dsvSt7i6xJt",
     "type":"CODE",
     "hide_input_from_viewers":false,
     "hide_output_from_viewers":false,
     "report_properties":{
      
     }
    }
   }
  },
  {
   "cell_type":"code",
   "source":[
    "sns.set_context('notebook',font_scale = 2.3)\n",
    "new_data.drop('Heart Disease Predicted', axis=1).corrwith(new_data['Heart Disease Predicted']).plot(kind='bar', grid=True, figsize=(20, 10), \n",
    "                                                        title=\"Correlation with the target feature\")\n",
    "plt.tight_layout()"
   ],
   "execution_count":521,
   "outputs":[
    {
     "data":{
      "image\/png":"[encoded data removed]"
     },
     "metadata":{
      "image\/png":{
       
      }
     },
     "output_type":"display_data"
    }
   ],
   "metadata":{
    "datalore":{
     "node_id":"5grF8gxY6fOaGxV56jdOJ0",
     "type":"CODE",
     "hide_input_from_viewers":false,
     "hide_output_from_viewers":false,
     "report_properties":{
      
     }
    }
   }
  },
  {
   "cell_type":"code",
   "source":[
    "new_data.describe()"
   ],
   "execution_count":522,
   "outputs":[
    {
     "data":{
      "text\/html":[
       "<div>\n",
       "<style scoped>\n",
       "    .dataframe tbody tr th:only-of-type {\n",
       "        vertical-align: middle;\n",
       "    }\n",
       "\n",
       "    .dataframe tbody tr th {\n",
       "        vertical-align: top;\n",
       "    }\n",
       "\n",
       "    .dataframe thead th {\n",
       "        text-align: right;\n",
       "    }\n",
       "<\/style>\n",
       "<table border=\"1\" class=\"dataframe\">\n",
       "  <thead>\n",
       "    <tr style=\"text-align: right;\">\n",
       "      <th><\/th>\n",
       "      <th>Age<\/th>\n",
       "      <th>Sex<\/th>\n",
       "      <th>Chest pain type<\/th>\n",
       "      <th>BP<\/th>\n",
       "      <th>Cholesterol<\/th>\n",
       "      <th>FBS over 120<\/th>\n",
       "      <th>EKG results<\/th>\n",
       "      <th>Max HR<\/th>\n",
       "      <th>Exercise angina<\/th>\n",
       "      <th>ST depression<\/th>\n",
       "      <th>Slope of ST<\/th>\n",
       "      <th>Number of vessels fluro<\/th>\n",
       "      <th>Thallium<\/th>\n",
       "      <th>Heart Disease Predicted<\/th>\n",
       "    <\/tr>\n",
       "  <\/thead>\n",
       "  <tbody>\n",
       "    <tr>\n",
       "      <th>count<\/th>\n",
       "      <td>270.000000<\/td>\n",
       "      <td>270.000000<\/td>\n",
       "      <td>270.000000<\/td>\n",
       "      <td>270.000000<\/td>\n",
       "      <td>270.000000<\/td>\n",
       "      <td>270.000000<\/td>\n",
       "      <td>270.000000<\/td>\n",
       "      <td>270.000000<\/td>\n",
       "      <td>270.000000<\/td>\n",
       "      <td>270.00000<\/td>\n",
       "      <td>270.000000<\/td>\n",
       "      <td>270.000000<\/td>\n",
       "      <td>270.000000<\/td>\n",
       "      <td>270.000000<\/td>\n",
       "    <\/tr>\n",
       "    <tr>\n",
       "      <th>mean<\/th>\n",
       "      <td>54.433333<\/td>\n",
       "      <td>0.677778<\/td>\n",
       "      <td>3.174074<\/td>\n",
       "      <td>131.344444<\/td>\n",
       "      <td>249.659259<\/td>\n",
       "      <td>0.148148<\/td>\n",
       "      <td>1.022222<\/td>\n",
       "      <td>149.677778<\/td>\n",
       "      <td>0.329630<\/td>\n",
       "      <td>1.05000<\/td>\n",
       "      <td>1.585185<\/td>\n",
       "      <td>0.670370<\/td>\n",
       "      <td>4.696296<\/td>\n",
       "      <td>0.444444<\/td>\n",
       "    <\/tr>\n",
       "    <tr>\n",
       "      <th>std<\/th>\n",
       "      <td>9.109067<\/td>\n",
       "      <td>0.468195<\/td>\n",
       "      <td>0.950090<\/td>\n",
       "      <td>17.861608<\/td>\n",
       "      <td>51.686237<\/td>\n",
       "      <td>0.355906<\/td>\n",
       "      <td>0.997891<\/td>\n",
       "      <td>23.165717<\/td>\n",
       "      <td>0.470952<\/td>\n",
       "      <td>1.14521<\/td>\n",
       "      <td>0.614390<\/td>\n",
       "      <td>0.943896<\/td>\n",
       "      <td>1.940659<\/td>\n",
       "      <td>0.497827<\/td>\n",
       "    <\/tr>\n",
       "    <tr>\n",
       "      <th>min<\/th>\n",
       "      <td>29.000000<\/td>\n",
       "      <td>0.000000<\/td>\n",
       "      <td>1.000000<\/td>\n",
       "      <td>94.000000<\/td>\n",
       "      <td>126.000000<\/td>\n",
       "      <td>0.000000<\/td>\n",
       "      <td>0.000000<\/td>\n",
       "      <td>71.000000<\/td>\n",
       "      <td>0.000000<\/td>\n",
       "      <td>0.00000<\/td>\n",
       "      <td>1.000000<\/td>\n",
       "      <td>0.000000<\/td>\n",
       "      <td>3.000000<\/td>\n",
       "      <td>0.000000<\/td>\n",
       "    <\/tr>\n",
       "    <tr>\n",
       "      <th>25%<\/th>\n",
       "      <td>48.000000<\/td>\n",
       "      <td>0.000000<\/td>\n",
       "      <td>3.000000<\/td>\n",
       "      <td>120.000000<\/td>\n",
       "      <td>213.000000<\/td>\n",
       "      <td>0.000000<\/td>\n",
       "      <td>0.000000<\/td>\n",
       "      <td>133.000000<\/td>\n",
       "      <td>0.000000<\/td>\n",
       "      <td>0.00000<\/td>\n",
       "      <td>1.000000<\/td>\n",
       "      <td>0.000000<\/td>\n",
       "      <td>3.000000<\/td>\n",
       "      <td>0.000000<\/td>\n",
       "    <\/tr>\n",
       "    <tr>\n",
       "      <th>50%<\/th>\n",
       "      <td>55.000000<\/td>\n",
       "      <td>1.000000<\/td>\n",
       "      <td>3.000000<\/td>\n",
       "      <td>130.000000<\/td>\n",
       "      <td>245.000000<\/td>\n",
       "      <td>0.000000<\/td>\n",
       "      <td>2.000000<\/td>\n",
       "      <td>153.500000<\/td>\n",
       "      <td>0.000000<\/td>\n",
       "      <td>0.80000<\/td>\n",
       "      <td>2.000000<\/td>\n",
       "      <td>0.000000<\/td>\n",
       "      <td>3.000000<\/td>\n",
       "      <td>0.000000<\/td>\n",
       "    <\/tr>\n",
       "    <tr>\n",
       "      <th>75%<\/th>\n",
       "      <td>61.000000<\/td>\n",
       "      <td>1.000000<\/td>\n",
       "      <td>4.000000<\/td>\n",
       "      <td>140.000000<\/td>\n",
       "      <td>280.000000<\/td>\n",
       "      <td>0.000000<\/td>\n",
       "      <td>2.000000<\/td>\n",
       "      <td>166.000000<\/td>\n",
       "      <td>1.000000<\/td>\n",
       "      <td>1.60000<\/td>\n",
       "      <td>2.000000<\/td>\n",
       "      <td>1.000000<\/td>\n",
       "      <td>7.000000<\/td>\n",
       "      <td>1.000000<\/td>\n",
       "    <\/tr>\n",
       "    <tr>\n",
       "      <th>max<\/th>\n",
       "      <td>77.000000<\/td>\n",
       "      <td>1.000000<\/td>\n",
       "      <td>4.000000<\/td>\n",
       "      <td>200.000000<\/td>\n",
       "      <td>564.000000<\/td>\n",
       "      <td>1.000000<\/td>\n",
       "      <td>2.000000<\/td>\n",
       "      <td>202.000000<\/td>\n",
       "      <td>1.000000<\/td>\n",
       "      <td>6.20000<\/td>\n",
       "      <td>3.000000<\/td>\n",
       "      <td>3.000000<\/td>\n",
       "      <td>7.000000<\/td>\n",
       "      <td>1.000000<\/td>\n",
       "    <\/tr>\n",
       "  <\/tbody>\n",
       "<\/table>\n",
       "<\/div>"
      ]
     },
     "metadata":{
      
     },
     "output_type":"display_data"
    }
   ],
   "metadata":{
    "datalore":{
     "node_id":"LgYbuKOXaLiXPDMCK26DyO",
     "type":"CODE",
     "hide_input_from_viewers":false,
     "hide_output_from_viewers":false,
     "report_properties":{
      
     }
    }
   }
  },
  {
   "cell_type":"code",
   "source":[
    "plt.figure(figsize=(25,12))\n",
    "sns.set_context('notebook',font_scale = 1.5)\n",
    "sns.barplot(x=new_data['Age'].value_counts()[:10].index,y=new_data['Age'].value_counts()[:10].values)\n",
    "plt.tight_layout()"
   ],
   "execution_count":523,
   "outputs":[
    {
     "data":{
      "image\/png":"[encoded data removed]"
     },
     "metadata":{
      "image\/png":{
       
      }
     },
     "output_type":"display_data"
    }
   ],
   "metadata":{
    "datalore":{
     "node_id":"H33ptAR9EP39CiUlrzhLor",
     "type":"CODE",
     "hide_input_from_viewers":false,
     "hide_output_from_viewers":false,
     "report_properties":{
      
     }
    }
   }
  },
  {
   "cell_type":"code",
   "source":[
    "minAge=min(new_data['Age'])\n",
    "maxAge=max(new_data['Age'])\n",
    "meanAge=new_data['Age'].mean()\n",
    "print('Minimum Age :',minAge)\n",
    "print('Maximum Age :',maxAge)\n",
    "print('Mean Age :',meanAge)"
   ],
   "execution_count":524,
   "outputs":[
    {
     "name":"stdout",
     "text":[
      "Minimum Age : 29\n",
      "Maximum Age : 77\n",
      "Mean Age : 54.43333333333333\n"
     ],
     "output_type":"stream"
    }
   ],
   "metadata":{
    "datalore":{
     "node_id":"c4wJo4I4hTXAFjSAx9f3BX",
     "type":"CODE",
     "hide_input_from_viewers":false,
     "hide_output_from_viewers":false,
     "report_properties":{
      
     }
    }
   }
  },
  {
   "cell_type":"code",
   "source":[
    "Young = new_data[(new_data['Age']>=29)&(new_data['Age']<40)]\n",
    "Middle = new_data[(new_data['Age']>=40)&(new_data['Age']<55)]\n",
    "Elder = new_data[(new_data['Age']>55)]\n",
    "\n",
    "plt.figure(figsize=(23,10))\n",
    "sns.set_context('notebook',font_scale = 1.5)\n",
    "sns.barplot(x=['young ages','middle ages','elderly ages'],y=[len(Young),len(Middle),len(Elder)])\n",
    "plt.tight_layout()"
   ],
   "execution_count":525,
   "outputs":[
    {
     "data":{
      "image\/png":"[encoded data removed]"
     },
     "metadata":{
      "image\/png":{
       
      }
     },
     "output_type":"display_data"
    }
   ],
   "metadata":{
    "datalore":{
     "node_id":"ywu77h3fSOjAzFYq2W7Mxv",
     "type":"CODE",
     "hide_input_from_viewers":false,
     "hide_output_from_viewers":false,
     "report_properties":{
      
     }
    }
   }
  },
  {
   "cell_type":"code",
   "source":[
    "colors = ['blue','green','yellow']\n",
    "explode = [0,0,0.1]\n",
    "plt.figure(figsize=(8,8))\n",
    "sns.set_context('notebook',font_scale = 1.2)\n",
    "plt.pie([len(Young),len(Middle),len(Elder)],labels=['young ages','middle ages','elderly ages'],explode=explode,colors=colors, autopct='%1.1f%%')\n",
    "plt.tight_layout()"
   ],
   "execution_count":526,
   "outputs":[
    {
     "data":{
      "image\/png":"[encoded data removed]"
     },
     "metadata":{
      "image\/png":{
       
      }
     },
     "output_type":"display_data"
    }
   ],
   "metadata":{
    "datalore":{
     "node_id":"AgQDr0WbDYgRSJWVuoxt8u",
     "type":"CODE",
     "hide_input_from_viewers":false,
     "hide_output_from_viewers":false,
     "report_properties":{
      
     }
    }
   }
  },
  {
   "cell_type":"code",
   "source":[
    "plt.figure(figsize=(10,7))\n",
    "sns.set_context('notebook',font_scale = 1.5)\n",
    "sns.countplot(new_data['Sex'])\n",
    "plt.tight_layout()"
   ],
   "execution_count":527,
   "outputs":[
    {
     "data":{
      "image\/png":"[encoded data removed]"
     },
     "metadata":{
      "image\/png":{
       
      }
     },
     "output_type":"display_data"
    }
   ],
   "metadata":{
    "datalore":{
     "node_id":"q8ctnPLw0QtZ77wnMWz0Za",
     "type":"CODE",
     "hide_input_from_viewers":false,
     "hide_output_from_viewers":false,
     "report_properties":{
      
     }
    }
   }
  },
  {
   "cell_type":"code",
   "source":[
    "plt.figure(figsize=(15,7))\n",
    "sns.set_context('notebook',font_scale = 1.5)\n",
    "sns.countplot(new_data['Sex'],hue=data[\"Slope of ST\"])\n",
    "plt.tight_layout()"
   ],
   "execution_count":528,
   "outputs":[
    {
     "data":{
      "image\/png":"[encoded data removed]"
     },
     "metadata":{
      "image\/png":{
       
      }
     },
     "output_type":"display_data"
    }
   ],
   "metadata":{
    "datalore":{
     "node_id":"lC8zWy1Sxmonee2xkM53y3",
     "type":"CODE",
     "hide_input_from_viewers":false,
     "hide_output_from_viewers":false,
     "report_properties":{
      
     }
    }
   }
  },
  {
   "cell_type":"code",
   "source":[
    "plt.figure(figsize=(18,9))\n",
    "sns.set_context('notebook',font_scale = 1.5)\n",
    "sns.countplot(new_data['Chest pain type'])\n",
    "plt.tight_layout()"
   ],
   "execution_count":529,
   "outputs":[
    {
     "data":{
      "image\/png":"[encoded data removed]"
     },
     "metadata":{
      "image\/png":{
       
      }
     },
     "output_type":"display_data"
    }
   ],
   "metadata":{
    "datalore":{
     "node_id":"MV2NofS8MXdBIHfgwuOK3M",
     "type":"CODE",
     "hide_input_from_viewers":false,
     "hide_output_from_viewers":false,
     "report_properties":{
      
     }
    }
   }
  },
  {
   "cell_type":"code",
   "source":[
    "plt.figure(figsize=(14,7))\n",
    "sns.set_context('notebook',font_scale = 1.5)\n",
    "sns.countplot(data['Chest pain type'],hue=new_data[\"Heart Disease Predicted\"])\n",
    "plt.tight_layout()"
   ],
   "execution_count":530,
   "outputs":[
    {
     "data":{
      "image\/png":"[encoded data removed]"
     },
     "metadata":{
      "image\/png":{
       
      }
     },
     "output_type":"display_data"
    }
   ],
   "metadata":{
    "datalore":{
     "node_id":"yQKbHnNIbhtkOILanILNer",
     "type":"CODE",
     "hide_input_from_viewers":false,
     "hide_output_from_viewers":false,
     "report_properties":{
      
     }
    }
   }
  },
  {
   "cell_type":"code",
   "source":[
    "plt.figure(figsize=(14,7))\n",
    "sns.set_context('notebook',font_scale = 1.5)\n",
    "sns.countplot(new_data['Heart Disease Predicted'])\n",
    "plt.tight_layout()"
   ],
   "execution_count":531,
   "outputs":[
    {
     "data":{
      "image\/png":"[encoded data removed]"
     },
     "metadata":{
      "image\/png":{
       
      }
     },
     "output_type":"display_data"
    }
   ],
   "metadata":{
    "datalore":{
     "node_id":"GG8RfuVzJT5UlBYLBxlDIr",
     "type":"CODE",
     "hide_input_from_viewers":false,
     "hide_output_from_viewers":false,
     "report_properties":{
      
     }
    }
   }
  },
  {
   "cell_type":"code",
   "source":[
    "new_data=pd.read_csv('dataset_2.csv')"
   ],
   "execution_count":532,
   "outputs":[
    
   ],
   "metadata":{
    "datalore":{
     "node_id":"UYvvf3Es0B8Lhb7HE484QF",
     "type":"CODE",
     "hide_input_from_viewers":false,
     "hide_output_from_viewers":false,
     "report_properties":{
      
     }
    }
   }
  },
  {
   "cell_type":"code",
   "source":[
    "#Splitting the dataset into training and testing \n",
    "\n",
    "X, y = new_data.iloc[:, :-1], new_data.iloc[:, -1]\n",
    "\n",
    "print(X.shape)\n",
    "print(y.shape)"
   ],
   "execution_count":533,
   "outputs":[
    {
     "name":"stdout",
     "text":[
      "(303, 13)\n",
      "(303,)\n"
     ],
     "output_type":"stream"
    }
   ],
   "metadata":{
    "datalore":{
     "node_id":"gsYpqsXfSSAm8lZCm2opEk",
     "type":"CODE",
     "hide_input_from_viewers":true,
     "hide_output_from_viewers":true
    }
   }
  },
  {
   "cell_type":"code",
   "source":[
    "from sklearn.model_selection import train_test_split\n",
    "from sklearn.preprocessing import StandardScaler\n",
    "\n",
    "\n",
    "sc = StandardScaler()\n",
    "X = sc.fit_transform(X)"
   ],
   "execution_count":534,
   "outputs":[
    
   ],
   "metadata":{
    "datalore":{
     "node_id":"ynpxgw90cbNGnP30R0kERf",
     "type":"CODE",
     "hide_input_from_viewers":true,
     "hide_output_from_viewers":true
    }
   }
  },
  {
   "cell_type":"code",
   "source":[
    "X_train,X_test,y_train,y_test=train_test_split(X,y,random_state=10,test_size=0.3,shuffle=True)\n",
    "\n",
    "#Printing the test Data\n",
    "print(X_test)\n",
    "print(y_test)"
   ],
   "execution_count":535,
   "outputs":[
    {
     "name":"stdout",
     "text":[
      "[[ 0.18017482 -1.46841752 -0.93851463 ... -0.64911323  1.24459328\n",
      "   1.12302895]\n",
      " [ 0.40075247  0.68100522  1.00257707 ... -0.64911323  0.26508221\n",
      "   1.12302895]\n",
      " [ 1.06248543  0.68100522  1.00257707 ... -0.64911323 -0.71442887\n",
      "   1.12302895]\n",
      " ...\n",
      " [ 0.29046364  0.68100522  1.00257707 ... -0.64911323  0.26508221\n",
      "   1.12302895]\n",
      " [-0.26098049  0.68100522  0.03203122 ...  0.97635214 -0.71442887\n",
      "  -0.51292188]\n",
      " [ 0.62133012  0.68100522 -0.93851463 ... -0.64911323  1.24459328\n",
      "   1.12302895]]\n",
      "246    0\n",
      "183    0\n",
      "229    0\n",
      "126    1\n",
      "184    0\n",
      "      ..\n",
      "69     1\n",
      "21     1\n",
      "210    0\n",
      "78     1\n",
      "174    0\n",
      "Name: target, Length: 91, dtype: int64\n"
     ],
     "output_type":"stream"
    }
   ],
   "metadata":{
    "datalore":{
     "node_id":"pAzTp321nBloNHSfV4RXko",
     "type":"CODE",
     "hide_input_from_viewers":true,
     "hide_output_from_viewers":true
    }
   }
  },
  {
   "cell_type":"code",
   "source":[
    "print (\"Training_set_x shape: \" + str(X_train.shape))\n",
    "print (\"Training_set_y shape: \" + str(y_train.shape))\n",
    "print (\"Testing_set_x shape: \" + str(X_test.shape))\n",
    "print (\"Testing_set_y shape: \" + str(y_test.shape))"
   ],
   "execution_count":536,
   "outputs":[
    {
     "name":"stdout",
     "text":[
      "Training_set_x shape: (212, 13)\n",
      "Training_set_y shape: (212,)\n",
      "Testing_set_x shape: (91, 13)\n",
      "Testing_set_y shape: (91,)\n"
     ],
     "output_type":"stream"
    }
   ],
   "metadata":{
    "datalore":{
     "node_id":"oCNeev2Ci5bCE56q4Kcvbt",
     "type":"CODE",
     "hide_input_from_viewers":true,
     "hide_output_from_viewers":true
    }
   }
  },
  {
   "cell_type":"markdown",
   "source":[
    "# MODELS"
   ],
   "attachments":{
    
   },
   "metadata":{
    "datalore":{
     "node_id":"1bkIv6F8Q1awbQqRnN7wSK",
     "type":"MD",
     "hide_input_from_viewers":true,
     "hide_output_from_viewers":true
    }
   }
  },
  {
   "cell_type":"markdown",
   "source":[
    "# Decision Tree Classifier"
   ],
   "attachments":{
    
   },
   "metadata":{
    "datalore":{
     "node_id":"G4eIe8QgIh9SerqFdKU9Ho",
     "type":"MD",
     "hide_input_from_viewers":true,
     "hide_output_from_viewers":true
    }
   }
  },
  {
   "cell_type":"code",
   "source":[
    "scores_dict = {}\n",
    "\n",
    "Catagory=['No','Yes']\n"
   ],
   "execution_count":537,
   "outputs":[
    
   ],
   "metadata":{
    "datalore":{
     "node_id":"XnwGHX3P4iHpL6sO5SfHz0",
     "type":"CODE",
     "hide_input_from_viewers":true,
     "hide_output_from_viewers":true
    }
   }
  },
  {
   "cell_type":"code",
   "source":[
    "\n",
    "from sklearn.tree import DecisionTreeClassifier\n",
    "dt=DecisionTreeClassifier()\n",
    "dt.fit(X_train,y_train)"
   ],
   "execution_count":538,
   "outputs":[
    {
     "data":{
      "text\/plain":[
       "DecisionTreeClassifier()"
      ]
     },
     "metadata":{
      
     },
     "output_type":"display_data"
    }
   ],
   "metadata":{
    "datalore":{
     "node_id":"9bY5UR8IOxVJ9wAPqOfsbJ",
     "type":"CODE",
     "hide_input_from_viewers":true,
     "hide_output_from_viewers":true
    }
   }
  },
  {
   "cell_type":"code",
   "source":[
    "\n",
    "prediction=dt.predict(X_test)\n",
    "accuracy_dt=accuracy_score(y_test,prediction)*100"
   ],
   "execution_count":539,
   "outputs":[
    
   ],
   "metadata":{
    "datalore":{
     "node_id":"6DdWswi0mB72AiWIOqJase",
     "type":"CODE",
     "hide_input_from_viewers":true,
     "hide_output_from_viewers":true
    }
   }
  },
  {
   "cell_type":"code",
   "source":[
    "scores_dict['DecisionTreeClassifier'] = accuracy_dt\n",
    "print(\"Accuracy with Descion Tree Classifier: \" +str(accuracy_dt))"
   ],
   "execution_count":540,
   "outputs":[
    {
     "name":"stdout",
     "text":[
      "Accuracy with Descion Tree Classifier: 75.82417582417582\n"
     ],
     "output_type":"stream"
    }
   ],
   "metadata":{
    "datalore":{
     "node_id":"77ipn7vISWK2BcWmaykbjm",
     "type":"CODE",
     "hide_input_from_viewers":true,
     "hide_output_from_viewers":true
    }
   }
  },
  {
   "cell_type":"code",
   "source":[
    "print(\"Accuracy on training set: {:.3f}\".format(dt.score(X_train, y_train)))\n",
    "print(\"Accuracy on test set: {:.3f}\".format(dt.score(X_test, y_test)))"
   ],
   "execution_count":541,
   "outputs":[
    {
     "name":"stdout",
     "text":[
      "Accuracy on training set: 1.000\n",
      "Accuracy on test set: 0.758\n"
     ],
     "output_type":"stream"
    }
   ],
   "metadata":{
    "datalore":{
     "node_id":"oqWXoyOqtZWLSgpEDGAgqZ",
     "type":"CODE",
     "hide_input_from_viewers":true,
     "hide_output_from_viewers":true
    }
   }
  },
  {
   "cell_type":"code",
   "source":[
    "# Target variable of testing dataset\n",
    "y_test"
   ],
   "execution_count":542,
   "outputs":[
    {
     "data":{
      "text\/html":[
       "<pre>246    0\n",
       "183    0\n",
       "229    0\n",
       "126    1\n",
       "184    0\n",
       "      ..\n",
       "69     1\n",
       "21     1\n",
       "210    0\n",
       "78     1\n",
       "174    0\n",
       "Name: target, Length: 91, dtype: int64<\/pre>"
      ]
     },
     "metadata":{
      
     },
     "output_type":"display_data"
    }
   ],
   "metadata":{
    "datalore":{
     "node_id":"ARMpcWW0NPB4WTK1v8NZwX",
     "type":"CODE",
     "hide_input_from_viewers":true,
     "hide_output_from_viewers":true
    }
   }
  },
  {
   "cell_type":"code",
   "source":[
    "# Predicted values\n",
    "prediction"
   ],
   "execution_count":543,
   "outputs":[
    {
     "data":{
      "text\/html":[
       "<pre>array([0, 0, 0, 1, 1, 1, 0, 0, 1, 1, 1, 1, 0, 1, 0, 1, 0, 0, 1, 0, 0, 1,\n",
       "       1, 1, 1, 0, 0, 0, 1, 0, 1, 1, 0, 1, 0, 0, 1, 1, 1, 0, 0, 0, 1, 1,\n",
       "       1, 1, 1, 1, 1, 1, 0, 1, 0, 0, 1, 1, 0, 1, 0, 0, 0, 1, 0, 0, 0, 1,\n",
       "       0, 1, 0, 1, 1, 0, 1, 1, 0, 1, 0, 1, 1, 1, 0, 1, 1, 0, 1, 0, 1, 1,\n",
       "       1, 1, 0])<\/pre>"
      ]
     },
     "metadata":{
      
     },
     "output_type":"display_data"
    }
   ],
   "metadata":{
    "datalore":{
     "node_id":"C7dOwVYcl0UP1ah18ITjC8",
     "type":"CODE",
     "hide_input_from_viewers":true,
     "hide_output_from_viewers":true
    }
   }
  },
  {
   "cell_type":"code",
   "source":[
    "\n",
    "# Predicting with new point\n",
    "X_DT=np.array([[63 ,1, 3,145,233,1,0,150,0,2.3,0,0,1]])\n",
    "X_DT_prediction=dt.predict(X_DT)\n",
    "print(X_DT_prediction[0])\n",
    "print(Catagory[int(X_DT_prediction[0])])\n",
    "\n",
    "\n"
   ],
   "execution_count":544,
   "outputs":[
    {
     "name":"stdout",
     "text":[
      "0\n",
      "No\n"
     ],
     "output_type":"stream"
    }
   ],
   "metadata":{
    "datalore":{
     "node_id":"iHNzRIuPHPsQjBbQF7F20q",
     "type":"CODE",
     "hide_input_from_viewers":true,
     "hide_output_from_viewers":true
    }
   }
  },
  {
   "cell_type":"markdown",
   "source":[
    "# KNN"
   ],
   "attachments":{
    
   },
   "metadata":{
    "datalore":{
     "node_id":"O7M58qlzHjvYqkgjGHw5oH",
     "type":"MD",
     "hide_input_from_viewers":true,
     "hide_output_from_viewers":true
    }
   }
  },
  {
   "cell_type":"code",
   "source":[
    "from sklearn.neighbors import KNeighborsClassifier\n",
    "\n",
    "k_range=range(1,26)\n",
    "\n",
    "scores={}\n",
    "h_score = 0       # to find the best score\n",
    "best_k=0          # to find the best k\n",
    "scores_list=[]  \n",
    "\n",
    "for k in k_range:\n",
    "\n",
    "    knn=KNeighborsClassifier(n_neighbors=k)\n",
    "    knn.fit(X_train,y_train)\n",
    "    prediction_knn=knn.predict(X_test)\n",
    "    scores[k]=accuracy_score(y_test,prediction_knn)\n",
    "\n",
    "    if scores[k]>h_score:\n",
    "        h_score = scores[k]\n",
    "        best_k = k\n",
    "\n",
    "    scores_list.append(accuracy_score(y_test,prediction_knn))\n",
    "\n",
    "print('The best value of k is {} with score : {}'.format(best_k,h_score))"
   ],
   "execution_count":545,
   "outputs":[
    {
     "name":"stdout",
     "text":[
      "The best value of k is 4 with score : 0.8571428571428571\n"
     ],
     "output_type":"stream"
    }
   ],
   "metadata":{
    "datalore":{
     "node_id":"V0Z8DRvIZ6n4pU55KGDn9D",
     "type":"CODE",
     "hide_input_from_viewers":true,
     "hide_output_from_viewers":true
    }
   }
  },
  {
   "cell_type":"code",
   "source":[
    "#Plotting accuracy for different values of k \n",
    "\n",
    "\n",
    "px.line(x=k_range,y=scores_list)"
   ],
   "execution_count":546,
   "outputs":[
    {
     "data":{
      "application\/vnd.plotly.v1+json":{
       "data":[
        {
         "hovertemplate":"x=%{x}<br>y=%{y}<extra><\/extra>",
         "legendgroup":"",
         "line":{
          "color":"#636efa",
          "dash":"solid"
         },
         "marker":{
          "symbol":"circle"
         },
         "mode":"lines",
         "name":"",
         "orientation":"v",
         "showlegend":false,
         "x":[
          1,
          2,
          3,
          4,
          5,
          6,
          7,
          8,
          9,
          10,
          11,
          12,
          13,
          14,
          15,
          16,
          17,
          18,
          19,
          20,
          21,
          22,
          23,
          24,
          25
         ],
         "xaxis":"x",
         "y":[
          0.7582417582417582,
          0.8131868131868132,
          0.8241758241758241,
          0.8571428571428571,
          0.8131868131868132,
          0.8021978021978022,
          0.8021978021978022,
          0.8241758241758241,
          0.7802197802197802,
          0.7802197802197802,
          0.7802197802197802,
          0.7912087912087912,
          0.8021978021978022,
          0.8021978021978022,
          0.7802197802197802,
          0.7802197802197802,
          0.7802197802197802,
          0.7802197802197802,
          0.7802197802197802,
          0.7802197802197802,
          0.7802197802197802,
          0.7912087912087912,
          0.7802197802197802,
          0.7802197802197802,
          0.7802197802197802
         ],
         "yaxis":"y",
         "type":"scatter"
        }
       ],
       "layout":{
        "template":{
         "data":{
          "bar":[
           {
            "error_x":{
             "color":"#2a3f5f"
            },
            "error_y":{
             "color":"#2a3f5f"
            },
            "marker":{
             "line":{
              "color":"#E5ECF6",
              "width":0.5
             },
             "pattern":{
              "fillmode":"overlay",
              "size":10,
              "solidity":0.2
             }
            },
            "type":"bar"
           }
          ],
          "barpolar":[
           {
            "marker":{
             "line":{
              "color":"#E5ECF6",
              "width":0.5
             },
             "pattern":{
              "fillmode":"overlay",
              "size":10,
              "solidity":0.2
             }
            },
            "type":"barpolar"
           }
          ],
          "carpet":[
           {
            "aaxis":{
             "endlinecolor":"#2a3f5f",
             "gridcolor":"white",
             "linecolor":"white",
             "minorgridcolor":"white",
             "startlinecolor":"#2a3f5f"
            },
            "baxis":{
             "endlinecolor":"#2a3f5f",
             "gridcolor":"white",
             "linecolor":"white",
             "minorgridcolor":"white",
             "startlinecolor":"#2a3f5f"
            },
            "type":"carpet"
           }
          ],
          "choropleth":[
           {
            "colorbar":{
             "outlinewidth":0,
             "ticks":""
            },
            "type":"choropleth"
           }
          ],
          "contour":[
           {
            "colorbar":{
             "outlinewidth":0,
             "ticks":""
            },
            "colorscale":[
             [
              0,
              "#0d0887"
             ],
             [
              0.1111111111111111,
              "#46039f"
             ],
             [
              0.2222222222222222,
              "#7201a8"
             ],
             [
              0.3333333333333333,
              "#9c179e"
             ],
             [
              0.4444444444444444,
              "#bd3786"
             ],
             [
              0.5555555555555556,
              "#d8576b"
             ],
             [
              0.6666666666666666,
              "#ed7953"
             ],
             [
              0.7777777777777778,
              "#fb9f3a"
             ],
             [
              0.8888888888888888,
              "#fdca26"
             ],
             [
              1,
              "#f0f921"
             ]
            ],
            "type":"contour"
           }
          ],
          "contourcarpet":[
           {
            "colorbar":{
             "outlinewidth":0,
             "ticks":""
            },
            "type":"contourcarpet"
           }
          ],
          "heatmap":[
           {
            "colorbar":{
             "outlinewidth":0,
             "ticks":""
            },
            "colorscale":[
             [
              0,
              "#0d0887"
             ],
             [
              0.1111111111111111,
              "#46039f"
             ],
             [
              0.2222222222222222,
              "#7201a8"
             ],
             [
              0.3333333333333333,
              "#9c179e"
             ],
             [
              0.4444444444444444,
              "#bd3786"
             ],
             [
              0.5555555555555556,
              "#d8576b"
             ],
             [
              0.6666666666666666,
              "#ed7953"
             ],
             [
              0.7777777777777778,
              "#fb9f3a"
             ],
             [
              0.8888888888888888,
              "#fdca26"
             ],
             [
              1,
              "#f0f921"
             ]
            ],
            "type":"heatmap"
           }
          ],
          "heatmapgl":[
           {
            "colorbar":{
             "outlinewidth":0,
             "ticks":""
            },
            "colorscale":[
             [
              0,
              "#0d0887"
             ],
             [
              0.1111111111111111,
              "#46039f"
             ],
             [
              0.2222222222222222,
              "#7201a8"
             ],
             [
              0.3333333333333333,
              "#9c179e"
             ],
             [
              0.4444444444444444,
              "#bd3786"
             ],
             [
              0.5555555555555556,
              "#d8576b"
             ],
             [
              0.6666666666666666,
              "#ed7953"
             ],
             [
              0.7777777777777778,
              "#fb9f3a"
             ],
             [
              0.8888888888888888,
              "#fdca26"
             ],
             [
              1,
              "#f0f921"
             ]
            ],
            "type":"heatmapgl"
           }
          ],
          "histogram":[
           {
            "marker":{
             "pattern":{
              "fillmode":"overlay",
              "size":10,
              "solidity":0.2
             }
            },
            "type":"histogram"
           }
          ],
          "histogram2d":[
           {
            "colorbar":{
             "outlinewidth":0,
             "ticks":""
            },
            "colorscale":[
             [
              0,
              "#0d0887"
             ],
             [
              0.1111111111111111,
              "#46039f"
             ],
             [
              0.2222222222222222,
              "#7201a8"
             ],
             [
              0.3333333333333333,
              "#9c179e"
             ],
             [
              0.4444444444444444,
              "#bd3786"
             ],
             [
              0.5555555555555556,
              "#d8576b"
             ],
             [
              0.6666666666666666,
              "#ed7953"
             ],
             [
              0.7777777777777778,
              "#fb9f3a"
             ],
             [
              0.8888888888888888,
              "#fdca26"
             ],
             [
              1,
              "#f0f921"
             ]
            ],
            "type":"histogram2d"
           }
          ],
          "histogram2dcontour":[
           {
            "colorbar":{
             "outlinewidth":0,
             "ticks":""
            },
            "colorscale":[
             [
              0,
              "#0d0887"
             ],
             [
              0.1111111111111111,
              "#46039f"
             ],
             [
              0.2222222222222222,
              "#7201a8"
             ],
             [
              0.3333333333333333,
              "#9c179e"
             ],
             [
              0.4444444444444444,
              "#bd3786"
             ],
             [
              0.5555555555555556,
              "#d8576b"
             ],
             [
              0.6666666666666666,
              "#ed7953"
             ],
             [
              0.7777777777777778,
              "#fb9f3a"
             ],
             [
              0.8888888888888888,
              "#fdca26"
             ],
             [
              1,
              "#f0f921"
             ]
            ],
            "type":"histogram2dcontour"
           }
          ],
          "mesh3d":[
           {
            "colorbar":{
             "outlinewidth":0,
             "ticks":""
            },
            "type":"mesh3d"
           }
          ],
          "parcoords":[
           {
            "line":{
             "colorbar":{
              "outlinewidth":0,
              "ticks":""
             }
            },
            "type":"parcoords"
           }
          ],
          "pie":[
           {
            "automargin":true,
            "type":"pie"
           }
          ],
          "scatter":[
           {
            "marker":{
             "colorbar":{
              "outlinewidth":0,
              "ticks":""
             }
            },
            "type":"scatter"
           }
          ],
          "scatter3d":[
           {
            "line":{
             "colorbar":{
              "outlinewidth":0,
              "ticks":""
             }
            },
            "marker":{
             "colorbar":{
              "outlinewidth":0,
              "ticks":""
             }
            },
            "type":"scatter3d"
           }
          ],
          "scattercarpet":[
           {
            "marker":{
             "colorbar":{
              "outlinewidth":0,
              "ticks":""
             }
            },
            "type":"scattercarpet"
           }
          ],
          "scattergeo":[
           {
            "marker":{
             "colorbar":{
              "outlinewidth":0,
              "ticks":""
             }
            },
            "type":"scattergeo"
           }
          ],
          "scattergl":[
           {
            "marker":{
             "colorbar":{
              "outlinewidth":0,
              "ticks":""
             }
            },
            "type":"scattergl"
           }
          ],
          "scattermapbox":[
           {
            "marker":{
             "colorbar":{
              "outlinewidth":0,
              "ticks":""
             }
            },
            "type":"scattermapbox"
           }
          ],
          "scatterpolar":[
           {
            "marker":{
             "colorbar":{
              "outlinewidth":0,
              "ticks":""
             }
            },
            "type":"scatterpolar"
           }
          ],
          "scatterpolargl":[
           {
            "marker":{
             "colorbar":{
              "outlinewidth":0,
              "ticks":""
             }
            },
            "type":"scatterpolargl"
           }
          ],
          "scatterternary":[
           {
            "marker":{
             "colorbar":{
              "outlinewidth":0,
              "ticks":""
             }
            },
            "type":"scatterternary"
           }
          ],
          "surface":[
           {
            "colorbar":{
             "outlinewidth":0,
             "ticks":""
            },
            "colorscale":[
             [
              0,
              "#0d0887"
             ],
             [
              0.1111111111111111,
              "#46039f"
             ],
             [
              0.2222222222222222,
              "#7201a8"
             ],
             [
              0.3333333333333333,
              "#9c179e"
             ],
             [
              0.4444444444444444,
              "#bd3786"
             ],
             [
              0.5555555555555556,
              "#d8576b"
             ],
             [
              0.6666666666666666,
              "#ed7953"
             ],
             [
              0.7777777777777778,
              "#fb9f3a"
             ],
             [
              0.8888888888888888,
              "#fdca26"
             ],
             [
              1,
              "#f0f921"
             ]
            ],
            "type":"surface"
           }
          ],
          "table":[
           {
            "cells":{
             "fill":{
              "color":"#EBF0F8"
             },
             "line":{
              "color":"white"
             }
            },
            "header":{
             "fill":{
              "color":"#C8D4E3"
             },
             "line":{
              "color":"white"
             }
            },
            "type":"table"
           }
          ]
         },
         "layout":{
          "annotationdefaults":{
           "arrowcolor":"#2a3f5f",
           "arrowhead":0,
           "arrowwidth":1
          },
          "autotypenumbers":"strict",
          "coloraxis":{
           "colorbar":{
            "outlinewidth":0,
            "ticks":""
           }
          },
          "colorscale":{
           "diverging":[
            [
             0,
             "#8e0152"
            ],
            [
             0.1,
             "#c51b7d"
            ],
            [
             0.2,
             "#de77ae"
            ],
            [
             0.3,
             "#f1b6da"
            ],
            [
             0.4,
             "#fde0ef"
            ],
            [
             0.5,
             "#f7f7f7"
            ],
            [
             0.6,
             "#e6f5d0"
            ],
            [
             0.7,
             "#b8e186"
            ],
            [
             0.8,
             "#7fbc41"
            ],
            [
             0.9,
             "#4d9221"
            ],
            [
             1,
             "#276419"
            ]
           ],
           "sequential":[
            [
             0,
             "#0d0887"
            ],
            [
             0.1111111111111111,
             "#46039f"
            ],
            [
             0.2222222222222222,
             "#7201a8"
            ],
            [
             0.3333333333333333,
             "#9c179e"
            ],
            [
             0.4444444444444444,
             "#bd3786"
            ],
            [
             0.5555555555555556,
             "#d8576b"
            ],
            [
             0.6666666666666666,
             "#ed7953"
            ],
            [
             0.7777777777777778,
             "#fb9f3a"
            ],
            [
             0.8888888888888888,
             "#fdca26"
            ],
            [
             1,
             "#f0f921"
            ]
           ],
           "sequentialminus":[
            [
             0,
             "#0d0887"
            ],
            [
             0.1111111111111111,
             "#46039f"
            ],
            [
             0.2222222222222222,
             "#7201a8"
            ],
            [
             0.3333333333333333,
             "#9c179e"
            ],
            [
             0.4444444444444444,
             "#bd3786"
            ],
            [
             0.5555555555555556,
             "#d8576b"
            ],
            [
             0.6666666666666666,
             "#ed7953"
            ],
            [
             0.7777777777777778,
             "#fb9f3a"
            ],
            [
             0.8888888888888888,
             "#fdca26"
            ],
            [
             1,
             "#f0f921"
            ]
           ]
          },
          "colorway":[
           "#636efa",
           "#EF553B",
           "#00cc96",
           "#ab63fa",
           "#FFA15A",
           "#19d3f3",
           "#FF6692",
           "#B6E880",
           "#FF97FF",
           "#FECB52"
          ],
          "font":{
           "color":"#2a3f5f"
          },
          "geo":{
           "bgcolor":"white",
           "lakecolor":"white",
           "landcolor":"#E5ECF6",
           "showlakes":true,
           "showland":true,
           "subunitcolor":"white"
          },
          "hoverlabel":{
           "align":"left"
          },
          "hovermode":"closest",
          "mapbox":{
           "style":"light"
          },
          "paper_bgcolor":"white",
          "plot_bgcolor":"#E5ECF6",
          "polar":{
           "angularaxis":{
            "gridcolor":"white",
            "linecolor":"white",
            "ticks":""
           },
           "bgcolor":"#E5ECF6",
           "radialaxis":{
            "gridcolor":"white",
            "linecolor":"white",
            "ticks":""
           }
          },
          "scene":{
           "xaxis":{
            "backgroundcolor":"#E5ECF6",
            "gridcolor":"white",
            "gridwidth":2,
            "linecolor":"white",
            "showbackground":true,
            "ticks":"",
            "zerolinecolor":"white"
           },
           "yaxis":{
            "backgroundcolor":"#E5ECF6",
            "gridcolor":"white",
            "gridwidth":2,
            "linecolor":"white",
            "showbackground":true,
            "ticks":"",
            "zerolinecolor":"white"
           },
           "zaxis":{
            "backgroundcolor":"#E5ECF6",
            "gridcolor":"white",
            "gridwidth":2,
            "linecolor":"white",
            "showbackground":true,
            "ticks":"",
            "zerolinecolor":"white"
           }
          },
          "shapedefaults":{
           "line":{
            "color":"#2a3f5f"
           }
          },
          "ternary":{
           "aaxis":{
            "gridcolor":"white",
            "linecolor":"white",
            "ticks":""
           },
           "baxis":{
            "gridcolor":"white",
            "linecolor":"white",
            "ticks":""
           },
           "bgcolor":"#E5ECF6",
           "caxis":{
            "gridcolor":"white",
            "linecolor":"white",
            "ticks":""
           }
          },
          "title":{
           "x":0.05
          },
          "xaxis":{
           "automargin":true,
           "gridcolor":"white",
           "linecolor":"white",
           "ticks":"",
           "title":{
            "standoff":15
           },
           "zerolinecolor":"white",
           "zerolinewidth":2
          },
          "yaxis":{
           "automargin":true,
           "gridcolor":"white",
           "linecolor":"white",
           "ticks":"",
           "title":{
            "standoff":15
           },
           "zerolinecolor":"white",
           "zerolinewidth":2
          }
         }
        },
        "xaxis":{
         "anchor":"y",
         "domain":[
          0,
          1
         ],
         "title":{
          "text":"x"
         }
        },
        "yaxis":{
         "anchor":"x",
         "domain":[
          0,
          1
         ],
         "title":{
          "text":"y"
         }
        },
        "legend":{
         "tracegroupgap":0
        },
        "margin":{
         "t":60
        }
       },
       "config":{
        "plotlyServerURL":"https:\/\/plot.ly"
       }
      }
     },
     "metadata":{
      
     },
     "output_type":"display_data"
    }
   ],
   "metadata":{
    "datalore":{
     "node_id":"UnEsCA1CxDhwO1Y1CrZjPz",
     "type":"CODE",
     "hide_input_from_viewers":true,
     "hide_output_from_viewers":true
    }
   }
  },
  {
   "cell_type":"code",
   "source":[
    "knn=KNeighborsClassifier(n_neighbors=best_k)\n",
    "knn.fit(X_train,y_train)\n",
    "\n",
    "\n",
    "prediction_knn=knn.predict(X_test)\n",
    "accuracy_knn=accuracy_score(y_test,prediction_knn)*100\n",
    "print('accuracy_score :',accuracy_score(y_test,prediction_knn)*100,'%')\n",
    "print('mean_squared_error :',mean_squared_error(y_test,prediction_knn)*100,'%')"
   ],
   "execution_count":547,
   "outputs":[
    {
     "name":"stdout",
     "text":[
      "accuracy_score : 85.71428571428571 %\n",
      "mean_squared_error : 14.285714285714285 %\n"
     ],
     "output_type":"stream"
    }
   ],
   "metadata":{
    "datalore":{
     "node_id":"Qw3W33aNIYw7ngfMZajbi4",
     "type":"CODE",
     "hide_input_from_viewers":true,
     "hide_output_from_viewers":true
    }
   }
  },
  {
   "cell_type":"code",
   "source":[
    "scores_dict['KNeighborsClassifier'] = accuracy_knn\n",
    "print(\"Accuracy with KKN: \" +str(accuracy_knn))\n",
    "\n"
   ],
   "execution_count":548,
   "outputs":[
    {
     "name":"stdout",
     "text":[
      "Accuracy with KKN: 85.71428571428571\n"
     ],
     "output_type":"stream"
    }
   ],
   "metadata":{
    "datalore":{
     "node_id":"gWmpHKqXvuRdwXyeU8lRGZ",
     "type":"CODE",
     "hide_input_from_viewers":true,
     "hide_output_from_viewers":true
    }
   }
  },
  {
   "cell_type":"code",
   "source":[
    "print(\"Accuracy on training set: {:.3f}\".format(knn.score(X_train, y_train)))\n",
    "print(\"Accuracy on test set: {:.3f}\".format(knn.score(X_test, y_test)))\n"
   ],
   "execution_count":549,
   "outputs":[
    {
     "name":"stdout",
     "text":[
      "Accuracy on training set: 0.868\n",
      "Accuracy on test set: 0.857\n"
     ],
     "output_type":"stream"
    }
   ],
   "metadata":{
    "datalore":{
     "node_id":"8dKS5SbnGq7fAwreo9TGsJ",
     "type":"CODE",
     "hide_input_from_viewers":true,
     "hide_output_from_viewers":true
    }
   }
  },
  {
   "cell_type":"code",
   "source":[
    "#Predicting with new point\n",
    "X_knn=np.array([[63 ,1, 3,145,233,1,0,150,0,2.3,0,0,1]])\n",
    "X_knn=sc.transform(X_knn)\n",
    "X_knn_prediction=knn.predict(X_knn)\n",
    "print(X_knn)\n"
   ],
   "execution_count":550,
   "outputs":[
    {
     "name":"stdout",
     "text":[
      "[[ 0.9521966   0.68100522  1.97312292  0.76395577 -0.25633371  2.394438\n",
      "  -1.00583187  0.01544279 -0.69663055  1.08733806 -2.27457861 -0.71442887\n",
      "  -2.14887271]]\n"
     ],
     "output_type":"stream"
    }
   ],
   "metadata":{
    "datalore":{
     "node_id":"AIwynf9zBJo4wCSsRHmMou",
     "type":"CODE",
     "hide_input_from_viewers":true,
     "hide_output_from_viewers":true
    }
   }
  },
  {
   "cell_type":"code",
   "source":[
    "\n",
    "print(X_knn_prediction[0])\n",
    "print(Catagory[int(X_knn_prediction[0])])"
   ],
   "execution_count":551,
   "outputs":[
    {
     "name":"stdout",
     "text":[
      "0\n",
      "No\n"
     ],
     "output_type":"stream"
    }
   ],
   "metadata":{
    "datalore":{
     "node_id":"N0d658i5yLZEUvVIMbxGmm",
     "type":"CODE",
     "hide_input_from_viewers":true,
     "hide_output_from_viewers":true
    }
   }
  },
  {
   "cell_type":"markdown",
   "source":[
    "# Support Vector Classifier"
   ],
   "attachments":{
    
   },
   "metadata":{
    "datalore":{
     "node_id":"dsgZ743ONHsMXiXU2I1vgC",
     "type":"MD",
     "hide_input_from_viewers":true,
     "hide_output_from_viewers":true
    }
   }
  },
  {
   "cell_type":"code",
   "source":[
    "from sklearn.svm import SVC\n",
    "\n",
    "model = SVC(C=2.0,kernel='rbf',gamma='auto').fit(X_train,y_train)\n",
    "Y_predict = model.predict(X_test)\n",
    "print('Accuracy score : {}%'.format(accuracy_score(y_test,Y_predict)*100))\n",
    "scores_dict['SVC'] = accuracy_score(y_test,Y_predict)*100"
   ],
   "execution_count":552,
   "outputs":[
    {
     "name":"stdout",
     "text":[
      "Accuracy score : 81.31868131868131%\n"
     ],
     "output_type":"stream"
    }
   ],
   "metadata":{
    "datalore":{
     "node_id":"scSPJeWe8gcVuvrdwRic7x",
     "type":"CODE",
     "hide_input_from_viewers":true,
     "hide_output_from_viewers":true
    }
   }
  },
  {
   "cell_type":"code",
   "source":[
    "#Plotting the accuracy of different Algorithms \n",
    "\n",
    "with sns.color_palette('muted'):\n",
    "  algo_name = list(scores_dict.keys())\n",
    "  scoress = list(scores_dict.values())\n",
    "\n",
    "  sns.set(rc={'figure.figsize':(13,7)})\n",
    "  plt.xlabel(\"ML Algorithms\")\n",
    "  plt.ylabel(\"Accuracy score\")\n",
    "\n",
    "  sns.barplot(algo_name,scoress)"
   ],
   "execution_count":553,
   "outputs":[
    {
     "data":{
      "image\/png":"[encoded data removed]"
     },
     "metadata":{
      "image\/png":{
       
      }
     },
     "output_type":"display_data"
    }
   ],
   "metadata":{
    "datalore":{
     "node_id":"Vc37aRW4XhKe7qcDwkQefF",
     "type":"CODE",
     "hide_input_from_viewers":true,
     "hide_output_from_viewers":true
    }
   }
  },
  {
   "cell_type":"markdown",
   "source":[
    "# Performing K Fold Cross Validation"
   ],
   "attachments":{
    
   },
   "metadata":{
    "datalore":{
     "node_id":"tL3Zdn9XWjlIC8kgIfdv5T",
     "type":"MD",
     "hide_input_from_viewers":true,
     "hide_output_from_viewers":true
    }
   }
  },
  {
   "cell_type":"code",
   "source":[
    "from sklearn.model_selection import cross_val_score\n",
    "from sklearn.model_selection import KFold\n",
    "\n",
    "\n",
    "acc_scores={}\n",
    "cv = KFold(n_splits=3,shuffle=True)\n",
    "cv_score_lr = cross_val_score(DecisionTreeClassifier(), X, y, cv=cv)\n",
    "print(cv_score_lr)\n",
    "\n",
    "mean_accuracy_lr = sum(cv_score_lr)\/len(cv_score_lr)\n",
    "mean_accuracy_lr = mean_accuracy_lr*100\n",
    "mean_accuracy_lr = round(mean_accuracy_lr, 2)\n",
    "print(\"Mean Accuracy In Desicion Tree Classifier: \"+str(mean_accuracy_lr)+\"%\")\n",
    "acc_scores['Desicion Tree Classifer']=mean_accuracy_lr\n",
    "\n"
   ],
   "execution_count":578,
   "outputs":[
    {
     "name":"stdout",
     "text":[
      "[0.74257426 0.86138614 0.73267327]\n",
      "Mean Accuracy In Desicion Tree Classifier: 77.89%\n"
     ],
     "output_type":"stream"
    }
   ],
   "metadata":{
    "datalore":{
     "node_id":"67KsbXu6q3vxmDt8M1GB3V",
     "type":"CODE",
     "hide_input_from_viewers":true,
     "hide_output_from_viewers":true
    }
   }
  },
  {
   "cell_type":"code",
   "source":[
    "from sklearn.model_selection import cross_val_score\n",
    "cv = KFold(n_splits=3, shuffle=True)\n",
    "cv_score_lr = cross_val_score(KNeighborsClassifier(), X, y, cv=cv)\n",
    "print(cv_score_lr)\n",
    "\n",
    "mean_accuracy_lr = sum(cv_score_lr)\/len(cv_score_lr)\n",
    "mean_accuracy_lr = mean_accuracy_lr*100\n",
    "mean_accuracy_lr = round(mean_accuracy_lr, 2)\n",
    "print(\"Mean Accuracy In KNN: \"+str(mean_accuracy_lr)+\"%\")\n",
    "acc_scores['K Neighbors Classifier']=mean_accuracy_lr"
   ],
   "execution_count":600,
   "outputs":[
    {
     "name":"stdout",
     "text":[
      "[0.81188119 0.78217822 0.84158416]\n",
      "Mean Accuracy In KNN: 81.19%\n"
     ],
     "output_type":"stream"
    }
   ],
   "metadata":{
    "datalore":{
     "node_id":"KmMMp3yPr1w89988ThJIbJ",
     "type":"CODE",
     "hide_input_from_viewers":true,
     "hide_output_from_viewers":true
    }
   }
  },
  {
   "cell_type":"code",
   "source":[
    "from sklearn.model_selection import cross_val_score\n",
    "cv = KFold(n_splits=3,  shuffle=True)\n",
    "cv_score_lr = cross_val_score(SVC(), X, y, cv=cv)\n",
    "print(cv_score_lr)\n",
    "mean_accuracy_lr = sum(cv_score_lr)\/len(cv_score_lr)\n",
    "mean_accuracy_lr = mean_accuracy_lr*100\n",
    "mean_accuracy_lr = round(mean_accuracy_lr, 2)\n",
    "print(\"Mean Accuracy In SVC: \"+str(mean_accuracy_lr)+\"%\")\n",
    "acc_scores['SVC']=mean_accuracy_lr"
   ],
   "execution_count":599,
   "outputs":[
    {
     "name":"stdout",
     "text":[
      "[0.79207921 0.78217822 0.84158416]\n",
      "Mean Accuracy In SVC: 80.53%\n"
     ],
     "output_type":"stream"
    }
   ],
   "metadata":{
    "datalore":{
     "node_id":"34B7n5QvAYjomLxxNlTJbF",
     "type":"CODE",
     "hide_input_from_viewers":true,
     "hide_output_from_viewers":true
    }
   }
  },
  {
   "cell_type":"markdown",
   "source":[
    "# Comparing the 3 Models "
   ],
   "attachments":{
    
   },
   "metadata":{
    "datalore":{
     "node_id":"FhGrWABMnplqyqEo5kJtgz",
     "type":"MD",
     "hide_input_from_viewers":true,
     "hide_output_from_viewers":true
    }
   }
  },
  {
   "cell_type":"code",
   "source":[
    "with sns.color_palette('muted'):\n",
    "  algo_name = list(acc_scores.keys())\n",
    "  scores = list(acc_scores.values())\n",
    "\n",
    "  sns.set(rc={'figure.figsize':(13,7)})\n",
    "  plt.xlabel(\"ML Algorithms\")\n",
    "  plt.ylabel(\"Accuracy score\")\n",
    "\n",
    "  sns.barplot(algo_name,scores)"
   ],
   "execution_count":601,
   "outputs":[
    {
     "data":{
      "image\/png":"[encoded data removed]"
     },
     "metadata":{
      "image\/png":{
       
      }
     },
     "output_type":"display_data"
    }
   ],
   "metadata":{
    "datalore":{
     "node_id":"U0rG41aZkCLbEAqsCDmOLq",
     "type":"CODE",
     "hide_input_from_viewers":true,
     "hide_output_from_viewers":true
    }
   }
  },
  {
   "cell_type":"markdown",
   "source":[
    "# Conclusion: Among the 3 algorithms , KNN has the highest accuracy"
   ],
   "attachments":{
    
   },
   "metadata":{
    "datalore":{
     "node_id":"oSOCMWT3MMgoIy7Q3tYehU",
     "type":"MD",
     "hide_input_from_viewers":true,
     "hide_output_from_viewers":true
    }
   }
  }
 ],
 "metadata":{
  "kernelspec":{
   "display_name":"Python",
   "language":"python",
   "name":"python"
  },
  "datalore":{
   "version":1,
   "computation_mode":"JUPYTER",
   "package_manager":"pip",
   "base_environment":"default",
   "packages":[
    
   ]
  }
 },
 "nbformat":4,
 "nbformat_minor":4
}